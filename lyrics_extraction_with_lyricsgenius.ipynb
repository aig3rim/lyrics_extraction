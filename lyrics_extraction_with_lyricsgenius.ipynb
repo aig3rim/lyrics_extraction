{
 "cells": [
  {
   "cell_type": "markdown",
   "id": "bec7efdc",
   "metadata": {},
   "source": [
    "# Lyrics extraction with LyricsGenius"
   ]
  },
  {
   "cell_type": "markdown",
   "id": "b0fbd0a1",
   "metadata": {},
   "source": [
    "## Settings"
   ]
  },
  {
   "cell_type": "code",
   "execution_count": 1,
   "id": "b88bda54",
   "metadata": {},
   "outputs": [],
   "source": [
    "import lyricsgenius\n",
    "import pandas as pd"
   ]
  },
  {
   "cell_type": "code",
   "execution_count": 2,
   "id": "6f24957e",
   "metadata": {},
   "outputs": [],
   "source": [
    "token = 'w_aS15hWGR2IambX7YP1oQSqkjCYAABCLycAHKCVp7PNB2danrxP7ZmUNyj7mM_K'\n",
    "url = 'https://genius.com/Billie-eilish-no-time-to-die-lyrics'"
   ]
  },
  {
   "cell_type": "code",
   "execution_count": 3,
   "id": "65129344",
   "metadata": {},
   "outputs": [],
   "source": [
    "genius = lyricsgenius.Genius(token,\n",
    "                             skip_non_songs=True,\n",
    "                             remove_section_headers=True)"
   ]
  },
  {
   "cell_type": "markdown",
   "id": "c47fd43a",
   "metadata": {},
   "source": [
    "## Searching and getting songs"
   ]
  },
  {
   "cell_type": "markdown",
   "id": "560a9e30",
   "metadata": {},
   "source": [
    "### Getting songs by artist name"
   ]
  },
  {
   "cell_type": "markdown",
   "id": "cfab72d9",
   "metadata": {},
   "source": [
    "Top 3 popular songs of Billie Eilish:"
   ]
  },
  {
   "cell_type": "code",
   "execution_count": 4,
   "id": "a0dcd13a",
   "metadata": {},
   "outputs": [
    {
     "name": "stdout",
     "output_type": "stream",
     "text": [
      "Searching for songs by Billie Eilish...\n",
      "\n",
      "Song 1: \"​when the party’s over\"\n",
      "Song 2: \"Happier Than Ever\"\n",
      "Song 3: \"​bad guy\"\n",
      "\n",
      "Reached user-specified song limit (3).\n",
      "Done. Found 3 songs.\n"
     ]
    }
   ],
   "source": [
    "artist = genius.search_artist(\"Billie Eilish\", max_songs=3, sort=\"popularity\")"
   ]
  },
  {
   "cell_type": "code",
   "execution_count": 5,
   "id": "81c4da30",
   "metadata": {},
   "outputs": [
    {
     "name": "stdout",
     "output_type": "stream",
     "text": [
      "[Song(id, artist, ...), Song(id, artist, ...), Song(id, artist, ...)]\n"
     ]
    }
   ],
   "source": [
    "print(artist.songs)"
   ]
  },
  {
   "cell_type": "code",
   "execution_count": 6,
   "id": "bc56f242",
   "metadata": {},
   "outputs": [
    {
     "name": "stdout",
     "output_type": "stream",
     "text": [
      "Searching for \"when the party’s over\" by Billie Eilish...\n",
      "Done.\n"
     ]
    }
   ],
   "source": [
    "song = artist.song(\"when the party’s over\")"
   ]
  },
  {
   "cell_type": "code",
   "execution_count": 7,
   "id": "34f974d5",
   "metadata": {},
   "outputs": [
    {
     "data": {
      "text/plain": [
       "\"TranslationsAkanaSvenskaEspañolРусскийRomânăPortuguêsItalianoHebrewDeutschFrançaisفارسیNederlandsDanskChinese Traditional\\u200bwhen the party’s over Lyrics\\nDon't you know I'm no good for you?\\nI've learned to lose you, can't afford to\\nTore my shirt to stop you bleedin'\\nBut nothin' ever stops you leavin'\\n\\nQuiet when I'm coming home and I'm on my own\\nI could lie, say I like it like that, like it like that\\nI could lie, say I like it like that, like it like that\\nDon't you know too much already?\\nI'll only hurt you if you let me\\nCall me friend, but keep me closer (Call me back)\\nAnd I'll call you when the party's over\\n\\nQuiet when I'm coming home and I'm on my own\\nAnd I could lie, say I like it like that, like it like that\\nYeah, I could lie, say I like it like that, like it like that\\n\\nBut nothin' is better sometimes\\nOnce we've both said our goodbyes\\nLet's just let it go\\nLet me let you go\\n\\nQuiet when I'm coming home and I'm on my own\\nI could lie, say I like it like that, like it like that\\nI could lie, say I like it like that, like it like thatYou might also like463Embed\""
      ]
     },
     "execution_count": 7,
     "metadata": {},
     "output_type": "execute_result"
    }
   ],
   "source": [
    "song.lyrics"
   ]
  },
  {
   "cell_type": "code",
   "execution_count": 8,
   "id": "8168f523",
   "metadata": {},
   "outputs": [
    {
     "name": "stdout",
     "output_type": "stream",
     "text": [
      "Wrote Lyrics_BillieEilish.json.\n"
     ]
    }
   ],
   "source": [
    "artist.save_lyrics()"
   ]
  },
  {
   "cell_type": "markdown",
   "id": "7a7f7991",
   "metadata": {},
   "source": [
    "### Getting songs by album name"
   ]
  },
  {
   "cell_type": "code",
   "execution_count": 9,
   "id": "8cef6f44",
   "metadata": {},
   "outputs": [
    {
     "name": "stdout",
     "output_type": "stream",
     "text": [
      "Searching for \"WHEN WE ALL FALL ASLEEP, WHERE DO WE GO?\" by Billie Eilish...\n"
     ]
    }
   ],
   "source": [
    "album = genius.search_album(\"WHEN WE ALL FALL ASLEEP, WHERE DO WE GO?\", \"Billie Eilish\")"
   ]
  },
  {
   "cell_type": "code",
   "execution_count": 10,
   "id": "e9c27ffb",
   "metadata": {},
   "outputs": [
    {
     "name": "stdout",
     "output_type": "stream",
     "text": [
      "Wrote Lyrics_WHENWEALLFALLASLEEPWHEREDOWEGO.json.\n"
     ]
    }
   ],
   "source": [
    "album.save_lyrics()"
   ]
  },
  {
   "cell_type": "markdown",
   "id": "36e733a1",
   "metadata": {},
   "source": [
    "### Getting songs by URL"
   ]
  },
  {
   "cell_type": "code",
   "execution_count": 11,
   "id": "e4f9061c",
   "metadata": {},
   "outputs": [
    {
     "data": {
      "text/plain": [
       "\"TranslationsTürkçeEspañolRomânăPortuguêsPolskiDeutschFrançaisفارسیDanskNo Time To Die Lyrics\\nI should have known\\nI'd leave alone\\nJust goes to show\\nThat the blood you bleed is just\\u2005the\\u2005blood you owe\\nWe\\u2005were a pair\\nBut I saw you\\u2005there\\nToo much to bear\\nYou were my life, but life is far away from fair\\nWas I stupid to love you?\\nWas I reckless to help?\\nWas it obvious to everybody else?\\nThat I'd fallen for a lie\\nYou were never on my side\\nFool me once, fool me twice\\nAre you death or paradise?\\nNow you'll never see me cry\\nThere's just no time to die\\n\\nI let it burn\\nYou're no longer my concern, mmm\\nFaces from my past return\\nAnother lesson yet to learn\\n\\nThat I'd fallen for a lie\\nYou were never on my side\\nFool me once, fool me twice\\nAre you death or paradise?\\nNow you'll never see me cry\\nThere's just no time to die\\n\\nNo time to die, mmm\\nNo time to die, ooh\\nYou might also like\\nFool me once, fool me twice\\nAre you death or paradise?\\nNow you'll never see me cry\\nThere's just no time to die227Embed\""
      ]
     },
     "execution_count": 11,
     "metadata": {},
     "output_type": "execute_result"
    }
   ],
   "source": [
    "genius.lyrics(song_url=url)"
   ]
  },
  {
   "cell_type": "markdown",
   "id": "8a0454e1",
   "metadata": {},
   "source": [
    "### Searching for a song by lyrics"
   ]
  },
  {
   "cell_type": "code",
   "execution_count": 12,
   "id": "fb122a56",
   "metadata": {
    "scrolled": true
   },
   "outputs": [
    {
     "name": "stdout",
     "output_type": "stream",
     "text": [
      "No Time To Die\n",
      "No Time To Die\n",
      "No Time To Die\n",
      "No Time to Die\n",
      "No Time to Die (Nightcore Mix)\n",
      "Billie Eilish - No Time To Die (ترجمه‌ی فارسی)\n",
      "No Time To Die\n",
      "No Time To Die (Demo)\n",
      "No Time to DIe\n",
      "No Time To Die\n"
     ]
    }
   ],
   "source": [
    "request = genius.search_lyrics('That the blood you bleed is just the blood you owe')\n",
    "for hit in request['sections'][0]['hits']:\n",
    "    print(hit['result']['title'])"
   ]
  },
  {
   "cell_type": "markdown",
   "id": "f1e0535c",
   "metadata": {},
   "source": [
    "### Getting the lyrics for all songs of a search"
   ]
  },
  {
   "cell_type": "code",
   "execution_count": 13,
   "id": "a1d76555",
   "metadata": {},
   "outputs": [],
   "source": [
    "lyrics = []\n",
    "\n",
    "songs = genius.search_songs('bad guy Billie Eilish')\n",
    "for song in songs['hits']:\n",
    "    url = song['result']['url']\n",
    "    song_lyrics = genius.lyrics(song_url=url)\n",
    "    lyrics.append(song_lyrics)"
   ]
  },
  {
   "cell_type": "code",
   "execution_count": 14,
   "id": "03c8a3a8",
   "metadata": {},
   "outputs": [
    {
     "data": {
      "text/plain": [
       "[\"TranslationsHrvatskiTürkçeSvenskaEspañolРусскийRomânăPortuguêsPolskiItalianoHebrewDeutschFrançaisفارسیNederlandsDanskChinese TraditionalΕλληνικά\\u200bbad guy Lyrics\\nWhite shirt now red, my bloody nose\\nSleepin', you're on your tippy toes\\nCreepin' around like no one knows\\nThink you're so criminal\\nBruises on both my knees for you\\nDon't say thank you or please\\nI do what I want when I'm wanting to\\nMy soul? So cynical\\n\\nSo you're a tough guy\\nLike it really rough guy\\nJust can't get enough guy\\nChest always so puffed guy\\nI'm that bad type\\nMake your mama sad type\\nMake your girlfriend mad tight\\nMight seduce your dad type\\nI'm the bad guy\\nDuh\\nI'm the bad guy\\n\\nI like it when you take control\\nEven if you know that you don't\\nOwn me, I'll let you play the role\\nI'll be your animal\\nMy mommy likes to sing along with me\\nBut she won't sing this song\\nIf she reads all the lyrics\\nShe'll pity the men I know\\n\\nSo you're a tough guy\\nLike it really rough guy\\nJust can't get enough guy\\nChest always so puffed guy\\nI'm that bad type\\nMake your mama sad type\\nMake your girlfriend mad tight\\nMight seduce your dad type\\nI'm the bad guy\\nDuh\\n\\nI'm the bad guy, duh\\nI'm only good at bein' bad, bad\\nYou might also like\\nI like when you get mad\\nI guess I'm pretty glad that you're alone\\nYou said she's scared of me?\\nI mean, I don't see what she sees\\nBut maybe it's 'cause I'm wearing your cologne\\n\\nI'm a bad guy\\nI'm, I'm a bad guy\\nBad guy, bad guy\\nI'm a bad345Embed\",\n",
       " \"TranslationsEspañolEnglishNederlandsPortuguês\\u200bbad guy Lyrics\\nHmm, da-da-da-da-da\\nDa-da-da, hmm\\nDa-da-da-hmm (Yeah, yeah)\\nOh, ah\\n\\nWhite shirt now red, my bloody nose\\nSleepin', you're on your tippy toes\\nCreepin' around like no one knows\\nThink you're so criminal\\nBruises on both my knees for you\\nDon't say thank you or please\\nI do what I want when I'm wanting to\\nMy soul so cynical\\nSo you're a tough guy\\nLike it really rough guy\\nJust can't get enough guy\\nChest always so puffed guy\\nI'm that bad type\\nMake your mama sad type\\nMake your girlfriend mad tight\\nMight seduce your dad type\\nI'm the bad guy\\nDuh\\n\\nI'm the bad guy\\n\\nGold teeth, my neck, my wrist is froze (So icy)\\nI got more ice than, than the snow\\nThat guy, don't act like you don't know\\nThat guy, so critical (Skrrt)\\nTattoos on both my sleeves\\nYeah, I don't sleep, please don't wake me\\nLoosen my tie up so I can breathe\\nIt ain't political, oh no (Uh-uh)\\n\\nYeah, I'm a bad guy\\nAin't no holdin' back guy\\nCome off like I'm mad guy\\nAlways got your back guy\\nYeah, I'm the real type\\nKeep you full of thrills type\\nShow you what it feels like\\nGot an open invite\\nI'm the bad guy, woah-ooh\\n(Duh)\\nYou might also like\\nI'm the bad guy\\nDuh\\nI'm only good at bein' bad, bad\\n\\n(Ahh)\\n(Ah)\\nI like when you get mad\\nI guess I'm pretty glad that you're alone (So icy)\\nYou said she's scared of me?\\nI mean, I don't see what she sees\\nBut maybe it's 'cause I'm wearing your cologne (Let's go)\\n\\nI'm a bad guy (Damn right)\\nI-I'm a bad guy (Bad guy, aw, yeah, bad guy)\\nI'm a bad...27Embed\",\n",
       " \"Bad Guy (Billie Eilish cover) Lyrics\\nWhite shirt now red, my bloody nose\\nSleepin', you're on your tippy toes\\nCreepin' around like no one knows\\nThink you're so criminal\\nBruises on both my knees for you\\nDon't say thank you or please\\nI do what I want when I'm wanting to\\nMy soul? So cynical\\n\\nSo you're a tough guy\\nLike it really rough guy\\nJust can't get enough guy\\nChest always so puffed guy\\nI'm that bad type\\nMake your mama sad type\\nMake your girlfriend mad tight\\nMight seduce your dad type\\nI'm the bad guy\\nI'm the bad guy\\nI like it when you take control\\nEven if you know that you don't\\nOwn me, I'll let you play that role\\nI'll be your animal\\nMy mommy likes to sing along with me\\nBut she won't sing this song\\nIf she reads all thе lyrics\\nShe'll pity the men I know\\nShе'll pity the men I know\\n\\nSo you're a tough guy\\nLike it really rough guy\\nJust can't get enough guy\\nChest always so puffed guy\\nI'm that bad type\\nMake your mama sad type\\nMake your girlfriend mad tight\\nMight seduce your dad type\\nI'm the bad guy\\nI'm the bad guy\\nI'm only good at bein' bad, bad, bad, bad, bad\\n\\nSo you're a tough guy\\nLike it really rough guy\\nJust can't get enough guy\\nChest always so puffed guy\\nI'm that bad type\\nMake your mama sad type\\nMake your girlfriend mad tight\\nMight seduce your dad type\\nI'm the bad guy\\nI'm the bad guyYou might also likeEmbed\",\n",
       " \"HONCHO Lyrics\\nAyy\\nThis Mexican bitch\\nFine as fuck (Oh)\\nI'm putting some\\nTakis up her ass\\nHey\\nYeah\\n\\nI got this motherfucking clip,\\u2005it\\u2005is big big\\u2005(Big)\\nForty like me, it just came\\u2005with a big dick (What)\\nBaby shake back like her booty a Fit Bit (Ayy)\\nTopping me off, that's her mouth doing lip sync (Ooh)\\nSlow mind nigga, get shot like a bad guy (Billie Eilish)\\nBaby with the throat got my pants looking baptized (Yeah)\\nMan, I'm too Macho, you a joke, you on standby (Ooh)\\nShe got so much ass, it turn Korea to an ally (What)\\nAyy\\nI'm Head Honcho, bitch\\nGucci turned to Poncho drip\\nAyy\\nWatch her taco flip\\nBetter come and watch yo' bitch\\nAyy\\n\\nOne hundred rounds, I won't miss you\\nPull up and we take your shit faster than a pit crew (Gang)\\nI walk in this bitch like John Wick do\\nI don't need a stick, I'll fuck you up with a pencil (Ayy, gang)\\nGlock make a pussy sweat like cross fit\\nRun from the cops so much I got a Fit Bit (Ayy)\\nNigga run up on me, what a dipshit\\nI pipe this bitch and smoke blunts, let my friends hit\\nShow up at the park, and I'll fuck up your picnic\\nI had to move the body to the trunk, that's a deadlift\\nTen Glocks, but my body count pending\\nPull pork out the whip and stomp out a piglet\\nMosh pit, Lil Kapow, the Head Honcho\\nI just did more lines that a Congo\\nPussy, money, drugs pronto\\nNew Balenciagas just so you could get stomped out\\nYou might also like\\nGang\\nHey\\nSomebody get me in contact with Lizzo\\nI'm tryna put her ass on a plate\\nAnd eat it like cheesecake\\nYou heard me?\\nHahahaha\\nHahahaha. Making so much money that they can probably have a real hard time counting it!1Embed\",\n",
       " '\\u200blaci’s 2022 Listening Log LyricsAll songs will be in order of when i listened to them\\nJanuary:\\nSwish Swish - Katy Perry (feat. Nicki Minaj)\\nCan\\'t Hold Us - Macklemore and Ryan Lewis\\nHOLIDAY - Lil Nas X\\nDark Red - Steve Lacy\\nI Didn\\'t Change My Number - Billie Eilish (3X)\\nhostage - Billie Eilish\\nmy boy - Billie Eilish\\nabcdefu - GAYLE\\n1991 - Azealia Banks\\nYRN - Migos (the remix of it that everyone on tiktok likes)\\nBallin\\' - Roddy Ricch\\nLevitating - Dua Lipa\\nNo Lie - Dua Lipa\\nOne Dance - Drake (feat. Wizkid)\\n1991 x Truffle Butter (mashup) - Azealia Banks and Nicki Minaj\\nFeel like God - Playboi Carti\\nWe Don\\'t Talk About Bruno (from Encanto)\\nSay So - Doja Cat\\ntelepatia - Kali Uchis\\nWoman - Doja Cat\\nOne Dancе - Drake\\nLevitating - Dua Lipa\\nevеrything i wanted - Billie Eilish\\nLOST IN PARADISE - ALI (feat. AKLO)\\nINDUSTRY BABY - Lil Nas X (feat. Jack Harlow)\\nrockstar - Post Malone (feat. 21 Savage)\\nLevitating - Dua Lipa\\nCabo - Bankrol Hayden\\nConfident - Justin Bieber\\nYou Right - Doja Cat\\nDeuces - Chris Brown\\nMiss the Rage - Mario Judah\\nYRN (EZRA remix) - Migos\\noui - Jeremih\\nbad idea - Ariana Grande\\nnasty - Ariana Grande\\nmotive - Ariana Grande (feat. Doja Cat)\\n(a compilation of tiktok edit audios)\\n(another compilation of tiktok edit audios)\\n(more tiktok edit audios)\\ntelepatia - Kali Uchis\\nRules - Doja Cat\\nTia Tamera - Doja Cat\\nBills, Bills, Bills - Destiny\\'s Child\\nDick - Starboi3 (feat. Doja Cat)\\nConfident - Justin Bieber\\nWAP - Cardi B & Megan Thee Stallion\\nLevitating - Dua Lipa\\nAdore You - Harry Styles\\nmy strange addiction - Billie Eilish\\nYRN (EZRA remix) - Migos\\nBallin\\' - Roddy Ricch\\nNo Lie - Dua Lipa\\nWERKKK - TisaKorean\\noui - Jeremih\\nDark Red - Steve Lacy\\nYRN (EZRA remix) - Migos\\nWERKKK - TisaKorean\\noui - Jeremih\\nDark Red - Steve Lacy\\nRidiculous - Ariana Grande\\noui - Jeremih\\nDark Red - Steve Lacy\\nLa Espada - Eternal Raijin\\nYRN (EZRA remix) - Migos\\nDark Red - Steve Lacy\\nRedbone - Childish Gambino\\nMyBoi (TroyBoi Remix) - Billie Eilish\\nYou\\'ll Never Know - Ariana Grande\\nwatch - Billie Eilish\\nGOLDWING - Billie Eilish\\nGTA San Andreas Theme Song\\n1991 - Azealia Banks\\nwhen the party\\'s over - Billie Eilish\\nHell Shell - Young Nudy\\nmy strange addiction - Billie Eilish\\nWERKKK - TisaKorean\\noui - Jeremih\\nOne Dance - Drake (feat. WizKid)\\nNEW MAGIC WAND - Tyler, the Creator\\nEssence - WizKid and Tems\\nThe Other Side (from Trolls World Tour) - SZA and Justin Timberlake\\nBoo\\'d Up - Ella Mai\\noui - Jeremih\\nAmerican Boy - Estelle\\nBills, Bills, Bills - Destiny\\'s Child\\nPity Party - Melanie Martinez\\nYRN (EZRA remix) - Migos\\nDark Red - Steve Lacy\\noui - Jeremih\\nHell Shell - Young Nudy\\nWhistle - Fantom\\nMask Off - Future\\nRidiculous - Ariana Grande\\nMegan\\'s Piano - Megan Thee Stallion\\nFeel Like God - Playboi Carti\\nMyBoi (TroyBoi remix) - Billie Eilish\\nEVERYWHEREIGO - BABYXSOSA\\nHell Shell - Young Nudy\\noui - Jeremih\\n1991 - Azealia Banks\\nThe Other Side - SZA and Justin Timberlake\\nKim Possible Theme Song\\nNeeded Me - Rihanna\\nYRN (EZRA remix) - Migos\\nWERKKK - TisaKorean\\nDDU-DU DDU-DU - BLACKPINK\\nDeuces - Chris Brown (3X)\\nBang Bang - Jessie J, Ariana Grande, Nicki Minaj\\nThe Other Side - SZA and Justin Timberlake\\nWERKKK - TisaKorean\\nWotaku koi wa Muzukashii OP (2X)\\nHell Shell - Young Nudy\\nDark Red - Steve Lacy\\nThe Other Side - SZA and Justin Timberlake\\nmotive - Ariana Grande (feat. Doja Cat)\\nYou Right - Doja Cat (feat. The Weeknd)\\nnasty - Ariana Grande\\nbad idea - Ariana Grande\\nGet Into It (Yuh) - Doja Cat\\npositions - Ariana Grande\\nLike That - Doja Cat (feat. Gucci Mane)\\nRules - Doja Cat\\nHave Mercy - Chloe\\nRidiculous - Ariana Grande\\nR.E.M - Ariana Grande\\nSave Your Tears - The Weeknd\\nBaby, I\\'m Jealous - Bebe Rexha (feat. Doja Cat)\\nSCOOP - Lil Nas X (feat. Doja Cat)\\nStreets - Doja Cat\\nKiss Me More - Doja Cat (feat. SZA)\\nINDUSTRY BABY (Extended) - Lil Nas X (feat. Jack Harlow)\\nSay So - Doja Cat\\nworst behavior - Ariana Grande\\nMOOO! - Doja Cat\\nUp and Down - Doja Cat\\n(my Spotify favorites playlist)\\nPapi Chulo - Octavian and Skepta\\nYRN (EZRA remix) - Migos\\nBallin\\' - Roddy Ricch (4X)\\nFeel Like God - Playboi Carti (2X)\\ntelepatia - Kali Uchis\\nDeuces - Chris Brown\\nConfident - Justin Bieber\\nWERKKK - TisaKorean\\noui - Jeremih\\nHell Shell - Young Nudy\\nOwn Brand Freestyle - FelixThe1st, Dreya Mac, Finch Fetti\\nWe Don\\'t Talk About Bruno (from Encanto)\\nrockstar - Post Malone (feat. 21 Savage)\\nCongratulations - Post Malone and Quavo\\nConfident - Justin Bieber\\nWERKKK - TisaKorean\\noui - Jeremih\\nBallin\\' - Roddy Ricch\\nWERKKK - TisaKorean\\nConfident - Justin Bieber\\nWild Thoughts - Rihanna, DJ Khalid, Bryson Tiller\\nGod is a woman - Ariana Grande\\nCan\\'t Hold Us - Macklemore and Ryan Lewis\\nYRN (EZRA remix) - Migos\\nBuild a Bitch - Bella Poarch\\nU Don\\'t Have To Call - Usher\\nFeel Like God - Playboi Carti\\ntelepatia - Kali Uchis\\noui - Jeremih\\nLevitating - Dua Lipa (feat. DaBaby)\\nLevitating - Dua Lipa\\nWe Don\\'t Talk About Bruno (from Encanto)\\nConfident - Justin Bieber\\nWotaku koi wa Muzukashii OP\\noui - Jeremih\\noui - Jeremih\\nWe Don\\'t Talk About Bruno (from Encanto)\\noui - Jeremih\\nThe Other Side - SZA and Justin Timberlake\\n(Spotify playlist)\\nno tears left to cry - Ariana Grande\\nDark Red - Steve Lacy\\noui - Jeremih (4X)\\nGod is a woman - Ariana Grande (6X)\\noui - Jeremih (3X)\\nDark Red - Steve Lacy\\nGod is a woman - Ariana Grande (2X)\\nPity Party - Melanie Martinez\\nmy boy - Billie Eilish\\nmy strange addiction - Billie Eilish\\npositions - Ariana Grande\\nwish you were gay - Billie Eilish\\noui - Jeremih\\nGod is a woman - Ariana Grande\\nbad idea - Ariana Grande\\nBillie Bossa Nova - Billie Eilish\\noui - Jeremih\\nGod is a woman - Ariana Grande\\nmy boy - Billie Eilish\\nBallin\\' - Roddy Ricch\\nEARFQUAKE - Tyler, The Creator\\nYou Right - Doja Cat (feat. The Weeknd)\\nINDUSTRY BABY - Lil Nas X (feat. Jack Harlow)\\nHave Mercy - Chloe\\n7 rings - Ariana Grande\\nSide to Side - Ariana Grande (feat. Nicki Minaj)\\nFocus - Ariana Grande\\nProblem - Ariana Grande (feat. Iggy Azalea)\\nno tears left to cry - Ariana Grande\\nDDU-DU DDU-DU - BLACKPINK\\nKill This Love - BLACKPINK\\nHow You Like That - BLACKPINK\\nIce Cream - BLACKPINK (feat. Selena Gomez)\\nbreak up with your girlfriend, i\\'m bored - Ariana Grande\\nGod is a woman - Ariana Grande\\nDon\\'t Call Me Angel - Ariana Grande, Miley Cyrus, and Lana Del Rey\\nall the good girls go to hell - Billie Eilish\\nbury a friend - Billie Eilish\\nThe Hills - The Weeknd\\nbad guy - Billie Eilish\\nTherefore I Am - Billie Eilish\\nFeel Good Inc. - Gorillaz\\nbad idea - Ariana Grande\\nBallin\\' - Roddy Ricch\\nMoney Trees - Kendrick Lamar\\noui - Jeremih\\nMotive X Promiscuous (mashup) - Ariana Grande and Nelly Furtado\\nMoney Trees - Kendrick Lamar\\nAll The Stars - Kendrick Lamar and SZA\\nFlashing Lights - Kanye West\\nStronger - Kanye West\\nBig Poppa - The Notorious B.I.G\\nRap God - Eminem\\nBallin\\' - Roddy Ricch\\nThe Box - Roddy Ricch\\nU Don\\'t Have To Call - Usher\\nNo Guidance - Chris Brown and Drake\\nFrontin\\' - Pharrell (feat. Jay Z)\\nNo Scrubs - TLC\\nbad idea - Ariana Grande\\nR.E.M - Ariana Grande\\nnasty - Ariana Grande\\nmotive - Ariana Grande (feat. Doja Cat)\\nYou Right - Doja Cat (feat. The Weeknd)\\nRidiculous - Ariana Grande\\npositions - Ariana Grande\\nbloodline - Ariana Grande\\noui - Jeremih\\nBallin\\' - Roddy Ricch\\nThe Box - Roddy Ricch\\nBlueberry Faygo - Lil Mosey\\nYRN (EZRA remix) - Migos\\nPocket Rocket - Cochise\\nMoney Trees - Kendrick Lamar\\nI Hate U - SZA\\nBallin\\' - Roddy Ricch\\nI Hate U - SZA\\nMoney Trees - Kendrick Lamar\\noui - Jeremih\\nThe Hills - The Weeknd\\nSuit & Tie - Justin Timberlake and Jay-Z\\nI Hate U - SZA\\nmotive - Ariana Grande (feat. Doja Cat)\\nnasty - Ariana Grande\\nConfident - Justin Bieber\\nRules - Doja Cat\\nMoney Trees - Kendrick Lamar\\nI Hate U - SZA\\nMoney Trees - Kendrick Lamar\\nMaterial Girl - Saucy Santana\\nI Hate U - SZA\\nBelly Dancer x Temperature\\nMegan\\'s Piano - Megan Thee Stallion\\nNeon Guts - Lil Uzi Vert (3X)\\nOwn Brand Freestyle - FelixThe1st, Dreya Mac, Finch Fetti\\nSAD GIRLZ LUV MONEY (remix) - Amaarae and Moliy (feat. Kali Uchis)\\nUp And Down - Doja Cat\\nWild Side - Normani (feat. Cardi B)\\nThis Could Be Us - Rae Sremmurd\\nyou reposted in the wrong neighborhood - Shokk\\nPocket Rocket - Cochise\\nTWINNEM - Coi Leray\\noui - Jeremih\\nWERKKK - TisaKorean\\nEncanto (Soundtrack)\\nI Hate U - SZA\\nNeon Guts - Lil Uzi Vert (feat. Pharrell)\\nMoney Trees - Kendrick Lamar\\nI Hate U - SZA\\nR.E.M - Ariana Grande\\nYou Right - Doja Cat and The Weeknd\\nmotive - Ariana Grande (feat. Doja Cat)\\nmy strange addiction - Billie Eilish\\nmy boy - Billie Eilish\\nall the good girls go to hell - Billie Eilish\\nGet Into It (Yuh) - Doja Cat\\nwish you were gay - Billie Eilish\\nBallin\\' - Roddy Ricch\\nThe Box - Roddy Ricch\\nINDUSTRY BABY - Lil Nas X (feat. Jack Harlow)\\ngoosebumps - Travis Scott (feat. Kendrick Lamar)\\nMoney Trees - Kendrick Lamar\\nNeon Guts - Lil Uzi Vert (feat. Pharrell)\\nMegan\\'s Piano - Megan Thee Stallion\\nSuit & Tie - Justin Timberlake (feat. Jay-Z)\\nNeon Guts - Lil Uzi Vert (feat. Pharrell) (3X)\\nPocket Rocket - Cochise\\nDrunk And Nasty - Pi\\'erre Bourne (feat. Sharc) (2X)\\nNeon Guts - Lil Uzi Vert (feat. Pharrell)\\nNeon Guts - Lil Uzi Vert (feat. Pharrell)\\nDrunk And Nasty - Pi\\'erre Bourne (feat. Sharc)\\nSuit & Tie - Justin Timberlake (feat. Jay-Z)\\nSky - Playboi Carti\\nU Remind Me - Usher\\nSuit & Tie - Justin Timberlake (feat. Jay-Z)\\noui - Jeremih\\nNeon Guts - Lil Uzi Vert (feat. Pharrell)\\nWe Don\\'t Talk About Bruno (from \"Encanto\")\\nHow You Like That - BLACKPINK\\nmy strange addiction - Billie Eilish\\nNeon Guts - Lil Uzi Vert (feat. Pharrell)\\nFrontin\\' - Pharrell\\nMask Off - Future\\nBallin\\' - Roddy Ricch\\nTyler Herro - Jack Harlow (2X)\\nHell Shell - Young Nudy\\nNeon Guts - Lil Uzi Vert (feat. Pharrell)\\nNeon Guts - Lil Uzi Vert (feat. Pharrel)\\nDrunk And Nasty - Pi\\'erre Bourne (feat. Sharc)\\nPocket Rocket - Cochise\\nSky - Playboi Carti\\noui - Jeremih\\nNeon Guts - Lil Uzi Vert (feat. Pharrell)\\nFrontin\\' - Pharrell (feat. Jay-Z)\\nKitty Kat - Beyonce\\nSky - Playboi Carti\\nTyler Herro - Jack Harlow\\nLight Switch - Charlie Puth (2X)\\n(Playlist)\\n50//50 - Vantage\\nFebruary:\\nHell Shell - Young Nudy (4X)\\nFrontin\\' - Pharrell (feat. Jay-Z)\\n20 min - Lil Uzi Vert (2-3X)\\nNeon Guts - Lil Uzi Vert (feat. Pharrell)\\nAll The Stars - Kendrick Lamar and SZA (like a million times)\\nI Hate U - SZA\\nThe Other Side - Justin Timberlake and SZA\\nNeon Guts - Lil Uzi Vert (feat. Pharrell) (2X)\\nNeon Guts - Lil Uzi Vert\\nNeon Guts - Lil Uzi Vert\\n20 Min - Lil Uzi Vert\\nXO TOUR Llif3 - Lil Uzi Vert\\nHoly Smokes - Trippie Redd (feat. Lil Uzi Vert)\\nThat Way - Lil Uzi Vert\\nNeon Guts - Lil Uzi Vert (feat. Pharrell)\\n20 Min - Lil Uzi Vert\\nKitty Kat - Megan Thee Stallion\\nEat it - Megan Thee Stallion\\nGeek\\'d - Bhad Bhabie (feat. Lil Baby)\\nWe Don\\'t Talk About Bruno (from \"Encanto)\\nYah Mean - Playboi Carti\\nBallin\\' - Roddy Ricch\\nUpgrade U - Beyonce\\nPocket Rocket - Cochise\\nThe Way Life Goes - Lil Uzi Vert\\nTell Em - Cochise (feat. $NOT)\\nSky - Playboi Carti\\nIShowSpeed - Shake\\nKitty Kat - Beyonce\\nGeek\\'d - Bhad Bhabie (feat. Lil Baby) (3X)\\nThe Way Life Goes - Lil Uzi Vert\\nThe Story of OJ - Jay-Z\\nTyler Herro - Jack Harlow\\nborderline - Ariana Grande (feat. Missy Elliott)\\n20 min - Lil Uzi Vert\\nYah Mean - Playboi Carti\\nNeon Guts - Lil Uzi Vert\\nTell Em - Cochise (feat. $NOT)\\nI Hate U - SZA\\nThe Way Life Goes - Lil Uzi Vert\\nNail Tech - Jack Harlow\\nNeon Guts - Lil Uzi Vert\\nTell Em - Cochise (feat. $NOT)\\nYah Mean - Playboi Carti\\nNail Tech - Jack Harlow\\nThe Story of OJ - Jay-Z\\nLove Again - Dua Lipa\\nDead Man\\'s Party - Oingo Boingo\\n20 min - Lil Uzi Vert\\nNeon Guts - Lil Uzi Vert\\nThe Way Life Goes - Lil Uzi Vert\\nTell Em - Cochise (feat. $NOT)\\nMarch:\\noui - Jeremih\\noui - Jeremih\\n20 Min - Lil Uzi Vert\\nNeon Guts - Lil Uzi Vert\\nbad idea - Ariana Grande\\nThe Way Life Goes - Lil Uzi Vert\\nWe\\'re Good - Dua Lipa\\nHallucinate - Dua Lipa\\nNo Lie - Dua Lipa and Sean Paul\\nmy boy - Billie Eilish\\nCOPYCAT - Billie Eilish\\nwatch - Billie Eilish\\nbellyache - Billie Eilish\\nbury a friend - Billie Eilish\\nall the good girls go to hell - Billie Eilish\\noui - Jeremih\\n20 Min - Lil Uzi Vert\\nNeon Guts - Lil Uzi Vert (feat. Pharrell)\\nbellyache - Billie Eilish\\noui - Jeremih\\nTherefore I Am - Billie Eilish\\nBreak My Heart - Dua Lipa\\nlove language - Ariana Grande\\nCOPYCAT - Billie Eilish\\nmy boy - Billie Eilish\\nBreak My Heart - Dua Lipa\\nHallucinate - Dua Lipa\\n20 Min - Lil Uzi Vert\\nNeon Guts - Lil Uzi Vert\\nmy boy - Billie Eilish\\nI Didn\\'t Change My Number - Billie Eilish\\nbad idea - Ariana Grande\\nDon\\'t Start Now - Dua Lipa\\nWe\\'re Good - Dua Lipa\\nall the good girls go to hell - Billie Eilish\\nwatch - Billie Eilish\\nbad guy - Billie Eilish\\nBaby, I\\'m Jealous - Bebe Rexha (feat. Doja Cat)\\nLevitating - Dua Lipa\\nGet Into It (Yuh) - Doja Cat\\nDrunk And Nasty - Pi\\'erre Bourne (feat. Sharc)\\noui - Jeremih\\nNeon Guts - Lil Uzi Vert\\noui - Jeremih\\n20 Min - Lil Uzi Vert\\nMagnolia - Playboi Carti\\nLevitating - Dua Lipa\\nIDGAF - Dua Lipa\\nnasty - Ariana Grande\\nWERKKK - TisaKorean\\noui - Jeremih\\nFeels - Katy Perry, Calvin Harris and Big Sean\\nlove language - Ariana Grande\\njust like magic - Ariana Grande\\n20 Min - Lil Uzi Vert\\nBaby I - Ariana Grande\\nMagnolia - Playboi Carti\\nNeon Guts - Lil Uzi Vert (feat. Pharrell)\\nTyler Herro - Jack Harlow\\nFirework - Katy Perry\\nBig Energy - Latto\\nYou\\'ll Never Know - Ariana Grande\\nDrunk and Nasty - Pi\\'erre Bourne (feat. Sharc)\\nMagnolia - Playboi Carti\\nNail Tech - Jack Harlow\\nBaby I - Ariana Grande\\nSweetest Pie - Megan Thee Stallion and Dua Lipa\\nThe Way Life Goes - Lil Uzi Vert (feat. Oh Wonder)\\nThat Way - Lil Uzi Vert\\nNo Lie - Dua Lipa\\nGod is a woman - Ariana Grande\\nno tears left to cry - Ariana Grande\\nBig Energy - Latto\\nSweetest Pie - Megan Thee Stallion and Dua Lipa\\nHOME - MIKE DIMES\\nWHATS POPPIN - Jack Harlow\\noui - Jeremih\\nNo Lie - Dua Lipa\\nApril:\\nRounds - August Alsina\\nRounds - August Alsina\\n20 Min - Lil Uzi Vert\\noui - Jeremih\\nNeon Guts - Lil Uzi Vert\\nSweetest Pie - Dua Lipa and Megan Thee Stallion\\nFirst Class - Jack Harlow\\nRounds - August Alsina\\nFlashing Lights - Kanye West\\nRounds - August Alsina\\nYah Mean - Playboi Carti\\nBlick Blick - Nicki Minaj and Coi Leray\\nFreaky Deaky - Doja Cat and Tyga\\nLiar - Camila Cabello\\nRules - Doja Cat\\nM3tamorphosis - Playboi Carti (feat. Kid Cudi)\\nSweetest Pie - Megan Thee Stallion and Dua Lipa\\nYah Mean - Playboi Carti\\nMagnolia - Playboi Carti\\nRounds - August Alsina\\nFirst Class - Jack Harlow\\nCOPYCAT - Billie EIlish\\nNail Tech - Jack Harlow\\nGold Digger - Kanye West\\nHoly Smokes - Trippie Redd (feat. Lil Uzi Vert)\\nFlashing Lights - Kanye West\\nAlright - Kendrick Lamar\\nMen in Black - Will Smith\\nTyler Herro - Jack Harlow\\nPrisoner - Miley Cyrus (feat. Dua Lipa)\\nSorry Not Sorry - Demi Lovato\\njust like magic - Ariana Grande\\nThat Way - Lil Uzi Vert\\nDrunk And Nasty - Pi\\'erre Bourne (feat. Sharc)\\nGeek\\'d - Bhad Bhabie (feat. Lil Baby)\\nPOCKET ROCKET - Cochise\\nDeuces - Chris Brown (feat. Tyga and Kevin McCall)\\nborderline - Ariana Grande (feat. Missy Elliot)\\nNeon Guts - Lil Uzi Vert (feat. Pharrell)\\nHell Shell - Young Nudy\\noui - Jeremih\\nFirst Class - Jack Harlow\\nSmokin\\' Out The Window - Silk Sonic\\nLiar - Camila Cabello\\nRounds - August Alsina\\nbitches broken hearts - Billie Eilish\\nGirl From Rio - Anitta (feat. DaBaby)\\nYah Mean - Playboi Carti\\nLevitating - Dua Lipa (feat. DaBaby)\\nSweetest Pie - Megan Thee Stallion and Dua Lipa\\nGo Crazy - Chris Brown and Young Thug\\nRounds - August Alsina\\nFirst Class - Jack Harlow\\nThis Could Be Us - Rae Sremmurd\\nBootylicious - Destiny\\'s Child\\nfamily ties - Baby Keem and Kendrick Lamar\\nEARFQUAKE - Tyler, The Creator\\nNeon Guts - Lil Uzi Vert (feat. Pharrell)\\nFirst Class - Jack Harlow\\nRounds - August Alsina\\nNeon Guts - Lil Uzi Vert\\nCabo - Bankrol Hayden\\nFirst Class - Jack Harlow\\nNeon Guts - Lil Uzi Vert\\n20 min - Lil Uzi Vert\\nJust a waste - PinkPatheress\\nU Know What\\'s Up (From Turning Red) - 4*TOWN\\nNeon Guts - Lil Uzi Vert\\n20 min - Lil Uzi Vert\\nMagnolia - Playboi Carti\\nHell Shell - Young Nudy\\nPOCKET ROCKET - Cochise\\n\\u200bwokeuplikethis* - Playboi Carti (feat. Lil Uzi Vert)\\nFirst Class - Jack Harlow\\nRounds - August Alsina\\nFlashing Lights - Kanye West\\nSweetest Pie - Dua Lipa and Megan Thee Stallion\\nMagnolia - Playboi Carti\\nU Know What\\'s Up (From Turning Red) - 4*TOWN\\nwokeuplikethis* - Playboi Carti (feat. Lil Uzi Vert)\\nFirst Class - Jack Harlow\\nRounds - August Alsina\\nFeel Good Inc. - Gorillaz\\nGOLDWING - Billie Eilish\\nBeef FloMix - Flo Milli\\nI Hate U - SZA\\nPOCKET ROCKET - Cochise\\nTyler Herro - Jack Harlow\\nNeon Guts - Lil Uzi Vert (feat. Pharrell)\\nHypnotize - The Notorious B.I.G\\nThis Could Be Us - Rae Sremmurd\\nRules - Doja Cat\\nDrunk And Nasty - Pi\\'erre Bourne (feat. Sharc)\\nPOCKET ROCKET - Cochise\\nnasty - Ariana Grande\\nM3tamorphosis - Playboi Carti (feat. Kid Cudi)\\nYah Mean - Playboi Carti\\nFeel Good Inc. - Gorillaz\\nPOCKET ROCKET - Cochise\\nRounds - August Alsina\\nFeel Good Inc. - Gorillaz\\nBeef FloMix - Flo Milli\\nLiar - Camila Cabello\\nAbout Damn Time - Lizzo\\nJuice - Lizzo\\nBetter in Color - Lizzo (2X)\\nTempo - Lizzo (feat. Missy Elliott)\\nU Know What\\'s Up (From Turning Red) - 4*TOWN\\nbitches broken hearts - Billie Eilish\\nmy strange addiction - Billie Eilish\\nmy boy - Billie Eilish\\nConfident - Justin Bieber (feat. Chance The Rapper)\\nbellyache - Billie Eilish\\nFeels - Calvin Harris (feat. Katy Perry, Pharrell and Big Sean)\\nChained To The Rhythm - Katy Perry (feat. Skip Marley)\\nAs It Was - Harry Styles\\nStayin\\' Alive - The Bee Gees\\nBlick Blick - Coi Leray and Nicki Minaj\\nSweetest Pie - Dua Lipa and Megan Thee Stallion\\nSwish Swish - Katy Perry (feat. Nicki Minaj)\\nNail Tech - Jack Harlow\\nINDUSTRY BABY - Lil Nas X (feat. Jack Harlow)\\nFirst Class - Jack Harlow\\nU Know What\\'s Up (From Turning Red) - 4*TOWN\\nEARFQUAKE - Tyler, The Creator\\nTurning Red (From Turning Red) - Ludwig Göransson\\nConfident - Justin Bieber (feat. Chance The Rapper)\\nFeel Good Inc. - Gorillaz\\nTurning Red (From Turning Red) - Ludwig Göransson\\nU Know What\\'s Up (From Turning Red) - 4*TOWN\\nMyBoi (TroyBoi Remix) - Billie Eilish\\nWe Don\\'t Talk About Bruno (from Encanto)\\nFeel Good Inc. - Gorillaz\\nU Know What\\'s Up (From Turning Red) - 4*TOWN\\nConfident - Justin Bieber (feat. Chance The Rapper)\\nAs It Was - Harry Styles\\nBeefFlomix - Flo Milli\\nU Know What\\'s Up (From Turning Red) - 4*TOWN\\nNeon Guts - Lil Uzi Vert (feat. Pharrell)\\nFirst Class - Jack Harlow\\nRounds - August Alsina\\nAfter Party - Don Toliver\\nPOCKET ROCKET - Cochise\\nFell In Luv - Playboi Carti (feat. Bryson Tiller)\\nU Know What\\'s Up (From Turning Red) - 4*TOWN\\nFeel Good Inc. - Gorillaz\\nFell In Luv - Playboi Carti (feat. Bryson Tiller)\\nFirst Class - Jack Harlow\\nFeel Good Inc. - Gorillaz\\nM3tamorphosis - Playboi Carti (feat. Kid Cudi)\\nNail Tech - Jack Harlow\\nRounds - August Alsina\\nYah Mean - Playboi Carti\\nMagnolia - Playboi Carti\\n20 Min - Lil Uzi Vert\\nConfident - Justin Bieber (feat. Chance The Rapper)\\nFeels - Calvin Harris (feat. Katy Perry, Pharrell and Big Sean)\\nEARFQUAKE - Tyler, The Creator\\nPOCKET ROCKET - Cochise\\nDrunk And Nasty - Pi\\'erre Bourne (feat. Sharc)\\nFell In Luv - Playboi Carti (feat. Bryson Tiller)\\nI Knew You Were Trouble. - Taylor Swift\\nMyBoi (TroyBoi Remix) - Billie Eilish\\nPoison - Bell Biv DeVoe\\n\\u200bwokeuplikethis* - Playboi Carti (feat. Lil Uzi Vert)\\nKiss Me More - Doja Cat (feat. SZA)\\nMay:\\nU Know What\\'s Up (From Turning Red) - 4*TOWN29Embed',\n",
       " 'Dennis the Menace Lyrics\\nOnly get better with time\\nLooking for diamonds, they ain\\'t hard to find, yeah\\nWine\\nOnly get better with time\\nLooking for diamonds...\\nKevin, make it SekC!\\n\\nMight get a crib out in Tokyo\\nNo lie, no cap, no Pinochio\\nMoney tic-tac like a rollie\\nShe ride me just like a rodeo\\nShe die for me just like I\\'m Romeo\\nShe\\'d fly to in just for the cameo\\nI can see the future like an oracle\\nOoh, you think she love you? That\\'s adorable\\nMore silently when I\\'m in it\\nWhen I spit it, my haters get jealous\\nMoney go out come back like tennis\\nBish, I feel like Dennis the Menace\\nAnd I\\'ve been doing this for a minute\\nIf I don\\'t slow down I\\'ma get a ticket\\nThey don\\'t know how to live how I\\'m living\\nThey don\\'t know how to live to the limit, yeah\\n\\nOne time overseas I went to the club with nine chicks\\nAnd dudes was jealous so they tried to take \\'em but none of them girls was buyin\\' it\\nHe acting disrespectful so I pushed him, his friend tried to jump me, at least they was tryin\\' it\\nLike come on it\\'s one on four how come your mans on the floor with my fist to his eyelid?\\nI\\'m not a bad guy, Billie Eilish\\nI\\'m just tryna chill with my babies and run past but act up and I\\'ll make it childish\\nYou ain\\'t got not drip get a stylist\\nAnd they tried to follow me back to my place and throw down but  I ain\\'t one to rise it\\nBut I warn you I once did Karate\\nI\\'ll beat you asap but don\\'t wanna Rocky\\nI feel like fifty they callin\\' me cocky\\nI\\'m Kevin not Ken but she wan\\' be my Barbie\\nShe sexy she poke out her lips when she with me\\nIt look like she sipping on saki\\nShe from Japan run me like I was Saki\\nShe texting me stuff that I can\\'t show my mommy\\nI flex on my ex like my first name was Johnny\\nI\\'m making her wild she calling me Donnie, yeah yeah\\nYou might also like\\nMight get a crib out in Tokyo\\nNo lie, no cap, no Pinochio\\nMoney tic-tac like a rollie\\nShe ride me just like a rodeo\\nShe die for me just like I\\'m Romeo\\nShe\\'d fly to me just for the cameo\\nI can see the future like an oracle\\nOoh, you think she love you? That\\'s adorable\\nMore silently when I\\'m in it\\nWhen I spit it, my haters get jealous\\nMoney go out come back like tennis\\nBish, I feel like Dennis the Menace\\nAnd I\\'ve been doing this for a minute\\nIf I don\\'t slow down I\\'ma get a ticket\\nThey don\\'t know how to live how I\\'m living\\nThey don\\'t know how to live to the limit, yeah\\n\\nIt\\'s so hot in the city right now\\nShe at the club getting litty right now\\nCall me Ricky, sit her pretty right now\\nShe call me wanna get it right now\\nI might go blow a milly right now\\nGet a new crib with the cash right down\\nIf she fly put the mic right down\\nShe got a friend, they can both come \\'round\\nGold meal, yeah, we can do rounds\\n1, 2, 3 \\'till the bell make sound\\nThat kitty, yeah, I\\'ma ahead and knock it out\\nNow I\\'m going in, head in, I ain\\'t coming out\\nHer body I\\'ma dive in, I ain\\'t valving out\\nGiving me lip like she got a bad mouth\\nShe a real freak, yeah, that\\'s no doubt\\nShe love I.G but she got no clout\\nHer body, I\\'ma dive in and swim around in her ocean\\nThe way that she lose it, it looks like slow motion\\nThe neighbors keep knocking like \"What\\'s that commotion?\"\\nShe working, she work like she tryna get a promotion, yeah\\n\\nMight get a crib out in Tokyo\\nNo lie, no cap, no Pinochio\\nMoney tic-tac like a rollie\\nShe ride me just like a rodeo\\nShe die for me just like I\\'m Romeo\\nShe\\'d fly to me just for the cameo\\nI can see the future like an oracle\\nOoh, you think she love you? That\\'s adorable\\nMore silently when I\\'m in it\\nWhen I spit it my haters get jealous\\nMoney go out come back like tennis\\nBish, I feel like Dennis the Menace\\nAnd I\\'ve been doing this for a minute\\nIf I don\\'t slow down I\\'ma get a ticket\\nThey don\\'t know how to live how I\\'m living\\nThey don\\'t know how to live to the limit, limit, limit, limitEmbed',\n",
       " 'I.T.P.P.N.A Lyrics\\nJ’surf sur la vague\\nDead or alive\\nJ’mets tout sur la table\\nI love my life\\nC’t’irréversible\\nLive j’suis la\\u2005cible\\nMais\\u2005j’veux connaître la\\u2005suite\\nOn prend des risques, mais…\\n\\nInquiète-toi pas\\u2005pour nous autres\\nOh na na, Oh na na, Oh na\\u205fna\\nInquiète-toi\\u205fpas\\u205fpour nous autres\\nJamais,\\u205fjamais, jamais non\\nInquiète-toi\\u205fpas pour nous autres\\nOh na na, Oh na na, Oh na na, Oh\\nInquiète-toi pas pour nous autres\\nJamais, jamais, jamais\\nInquiète-toi pas pour nous autres\\nInquiète-toi pas pour nous autres\\nInquiète-toi pas pour nous autres\\nInquiète-toi pas pour nous autres, Non, Non\\nInquiète-toi pas pour nous autres\\nTu m’appelles ça se peut j’te ghost\\nJ’skur plus vite que Usain Bolt\\nPlus de drip que les glissades d’eau\\nJ’te montre que j’ai d’la répartie\\nDes fois j’gagne par télépathie\\nÉlégant comme Alexandre Despatie\\n10 sur 10 quand j’ai plongé dans la vie\\n\\nOne love pour mes génies en herbe\\nPut the whole fucking city en laisse\\nVos commentaires j’en ai pris pis j’en laisse\\nJ’suis le bad guy Billie Eilish\\nDis-moi qui peut fuck avec le 7\\nRuffy Duffy, Le Michel, Manifest\\nDevant le mur du son brasse la cannette\\nGénies en herbe écrit en grosses lettres\\n\\nAllright\\nDon’t fuck my vibe\\nArrête\\nDon’t get too close\\nAyaye\\nT’es dans ma bulle\\nJ’suis dans ma tête\\nAyaye mais…\\nYou might also like\\nInquiète-toi pas pour nous autres\\nOh na na, Oh na na, Oh na na\\nInquiète-toi pas pour nous autres\\nJamais, jamais, jamais non\\nInquiète-toi pas pour nous autres\\nOh na na, Oh na na, Oh na na, Oh\\nInquiète-toi pas pour nous autres\\nJamais, jamais, jamais\\nInquiète-toi pas pour nous autres\\nInquiète-toi pas pour nous autres\\nInquiète-toi pas pour nous autres\\nInquiète-toi pas pour nous autres, Non, Non\\n\\nT’inquiète on est good\\nOn nous respecte dans le hood\\nPersonne de plus fresh dans le boute\\nT’inquiète on est dope\\nOn monte en flèche dans les polls\\nLaisse que des restes pour les autres\\nT’inquiète on est nice\\nSi t’essaies de nous kill, get a life\\nOn est trop big pour te fight\\nT’inquiète on est fly\\nC’est nous autres les best pour le faire\\nInquiète-toi pas pour nous autres\\nT’es désolé\\nOk ok part\\nPlus vite d’un guépard\\nBouge à quelque part\\nLaurent Duvernay-Tardif\\nQuand que j’mène le score\\nOn sauve des vies, moi c’est la médecine de l’art\\n\\nJ’surf sur la vague\\nDead or alive\\nJ’mets tout sur la table\\nI love my life\\nC’t’irréversible\\nLive j’suis la cible\\nMais j’veux connaître la suite\\nOn prend des risques, mais…\\n\\nInquiète-toi pas pour nous autres\\nOh na na, Oh na na, Oh na na\\nInquiète-toi pas pour nous autres\\nJamais, jamais, jamais non\\nInquiète-toi pas pour nous autres\\nOh na na, Oh na na, Oh na na, Oh\\nInquiète-toi pas pour nous autres\\nJamais, jamais, jamais\\nInquiète-toi pas pour nous autres\\nInquiète-toi pas pour nous autres\\nInquiète-toi pas pour nous autres\\nInquiète-toi pas pour nous autres, Non, NonEmbed',\n",
       " 'Supersonic Lyrics\\nMy dad left when I was young, so I was raised by my mum\\nThat\\'s why\\u2005I\\'m\\u2005so feminine, she\\u2005thought that she had a son\\nBeing\\u2005told off for the things that I hadn\\'t done\\nWatch for your manners, and spit out your bubble gum\\nWas raised on Oasis and some Miley Cyrus\\nAnd played DSI with the pen or the stylus\\nAlways get lost down the side of the sofa\\nStay drinking boba, pour up a cold one\\n\\nWe live in a world where we wanted cars that go fast\\nAnd the speed supersonic now\\nYou know if they\\'re rich from their wallets\\nHands in my pocket, I wish that I got it\\nWe live in a world where we wanted cars that go fast\\nAnd the speed supersonic now\\nYou know if they\\'re rich from their wallets\\nHands in my pocket, I wish that I got it\\nOh, you\\'ve never met a rich kid? Oh, they think their different\\nHang with other crowds \\'cause they never fuck with this shit\\nDon\\'t like tattoos on their neck (\"Excuse me?\")\\nSo I got some tattoos on my neck\\nDoes that mean that I\\'m a bad guy?\\nBillie Eilish, I\\'ll be stylish on my profile\\nThink \\'bout last night with the high-vis, you could try this\\nWith my jeans and my tie-dye shirt\\n\\nWe live in a world where we wanted cars that go fast\\nAnd the speed supersonic now\\nYou know if they\\'re rich from their wallets\\nHands in my pocket, I wish that I got it\\nWe live in a world where we wanted cars that go fast\\nAnd the speed supersonic now\\nYou know if they\\'re rich from their wallets\\nHands in my pocket, I wish that I got it\\n\\nWe live in a world where we wanted cars that go fast\\nAnd the speed supersonic now\\nYou know if they\\'re rich from their wallets\\nHands in my pocket, I wish that I got itYou might also likeEmbed',\n",
       " '\\u200bfavoritos 2019 Lyricsfavoritos 2019 por rogelio\\nplaylist en spotifyCanciones\\n• Billie Eilish – \"bad guy\"\\n• Billie Eilish – \"my\\u2005strange\\u2005addiction\"\\n• Billie Eilish\\u2005– \"wish you were gay\"\\n• Billie\\u2005Eilish – \"xanny\"\\n• Bizarrap & Kinder Malo – \"Kinder Malo: Bzrp Music Sessions, Vol. 17, Lado A\"\\n• Bizarrap & Kinder Malo – \"Kinder Malo: Bzrp Music Sessions, Vol. 17, Lado B\"\\n• Bizarrap & Trueno – \"Trueno: Bzrp Music Sessions, Vol. 16\"\\n• Bizarrap & Nicki Nicole – \"Nicki Nicole: Bzrp Music Sessions, Vol. 13\"\\n• C. Tangana, Duki & Neo Pistea – \"5 Stars\"\\n• Cariño – \":（\"\\n• Cazzu – \"Mucha Data\"\\n• Clutchill & Louis9k – \"Angel Beats\"\\n• Coolie Cut, Craig Xen & Killstation – \"Nothing\"\\n• Cupido – \"Autoestima\"\\n• Cupido – \"El Tiempo Es Oro\"\\n• Cupido – \"U Know\"\\n• Dillom, Muerejoven & Halpe – \"A$AP\"\\n• Dillom — \"Casipegado\"\\n• Duki – \"Goteo\"\\n• Felp 22, Rauw Alejandro & Duki – \"TRAPPERZ A Mafia Da Sicilia\"\\n• Fuego & Duki – \"Sigo Fresh\"\\n• Goa — \"Cruel\"\\n• Juicy BAE & Okkodeine – \"Pikete\"\\n• JUMEX – \"LONER\"\\n• Kaydy Cain & Morad – \"Mentira\"\\n• Kid Trunks – \"E-Wave\"\\n• Kid Trunks – \"Woah (Freestyle)\"\\n• Kid Trunks, Flyboy Tarantino & Robb Bank$ – \"Plottin\"\\n• Kidd Keo – \"Pitbull\"\\n• Kidd Keo – \"Moon Talk\"\\n• Kiddie Gang – \"Morfina\"\\n• Kinder Malo – \"Solo TÚ\"\\n• Kinder Malo – \"?\"\\n• Lao Ra & C. Tangana – \"Picaflor\"\\n• Lil Benjas – \"Vaquera\"\\n• Lil Peep – \"I\\'ve Been Waiting\"\\n• Louis9k – \"Saint Laurent Cocaine\"\\n• Muerejoven – \"Fredo\"\\n• Muerejoven & Halpe – \"Gratis\"\\n• Nicki Nicole – \"F*****g Diablo\"\\n• ODD MAMI – \"Kaneda\"\\n• ODD MAMI – \"Salem\"\\n• Pimp Flaco – \"Con otr@ chic@\"\\n• Pimp Flaco & Dillom – \"DO RE MI\"\\n• Rojuu – \"R.I.P\"\\n• Rojuu, Clutchill & Carzé – \"Memorias de Plástico\"\\n• Saramalacara – \"Budokai Tenkaichi\"\\n• Saramalacara – \"Cartoon Network\"\\n• Taichu – \"Who\"\\n• Wavy Kids – \"Tokyo\"\\n• XXXTENTACION – \"bad vibes forever\"\\n• Yung Beef, Duki & Neo Pistea – \"Bebo Champagne y Lo Tiro (Remix)\"\\n• Yung Lean & Thaiboy Digital – \"First Class\"\\n• Zion Lion – \"My Road\"Álbumes/EPs1. Rojuu, Clutchill & Carzé – Children of God ✨\\n2. Goa – Inmortal ✨\\n3. XXXTENTACION – XXXTENTACION Presents: Members Only, Vol. 4 ✨\\n4. Cecilio G – Milion Dollar Baby (Ceegeeotcp) ✨\\n5. XXXTENTACION – Bad Vibes Forever ✨\\n6. LFAM & Dudu – Gnosis ✨\\n7. Billie Eilish – WHEN WE ALL FALL ASLEEP, WHERE DO WE GO? ✨\\n8. Lil Peep – GOTH ANGEL SINNER ✨\\n9. JUMEX – LONER ✨\\n10. Duki – Súper Sangre Joven ✨BonusHe decidido incluir mis estadísticas de Spotify Wrapped en la página. Siendo realistas, no hay mucha diferencia entre mis estadísticas del Wrapped de 2018 y el Wrapped de 2019, las estadísticas son bastantes similares, a excepción de algunos artistas que se incluyeron a la lista de artistas favoritos, y otros que desaparecieron de ella.Además del Spotify Wrapped, quería dedicarle un pequeño espacio a aquellos álbumes que escuché anteriores a 2019 durante todo el año:\\n• Nirvana – Nevermind (1991)\\n• Rojuu – Cotard Delusion (2018)\\n• xMIM3RT – So Sad, Sorry (2018)\\n• Rojuu – 2003 (2018)\\n• Yung Beef – Adromicfms 4 (2018)\\n• Lil Peep – Crybaby (2016)\\n• salvia palth – melanchole (2013)\\n• The Notorious B.I.G. – Ready to Die (1994)\\n• Los Santos – Pxxrificacion (2017)\\n• Members Only – Members Only, Vol. 1 (2015)\\n• PXXR GVNG – Los Pobres (2015)\\n• Rojuu – Insomnia (2017)\\n• XXXTENTACION – A GHETTO CHRISTMAS CAROL (2017)\\n• Kaydy Cain – 3 Sentimientos (2009)\\n• Cariño – Movidas (2018)\\n• Terry Fama – No Estoy Bien (2018)\\n• Joji – BALLADS 1 (2018)\\n• XXXTENTACION – Revenge (2017)\\n• Lil Peep – Hellboy (2016)\\n• Teen Suicide – Hymns (2012)\\n• Teen Suicide – Globin Problems (2012)\\n• Kidd Keo – Old Times in Gotham (2017)\\n• Goa & Pochi – HellPopStar (2018)\\n• Yung Beef & Goa – Traumatismo Kraneocefálico (2018)\\n• C. Tangana – Avida Dollars (2018)\\n• Kidd Keo – Welcome to Gotham (2016)Embed',\n",
       " '\\u200bhamperedoutkast’s 2019 Year End List Lyrics\\n1. GINGER - BROCKHAMPTON\\n2. Ventura - Anderson .Paak\\n3. FOTO - Kota the Friend\\n4. The Sailor\\u2005-\\u2005Rich Brian\\n5. Heavy\\u2005Is The Head - Stormzy\\n6. Nothing\\u2005Great About Britain - slowthai\\n7. Fine Line - Harry Styles\\n8. Injury Reserve - Injury Reserve\\n9. ARIZONA Baby - Kevin Abstract\\n10. A Long Red Hot Los Angeles Summer Night - Blu and Oh No\\n1. \"NO HALO\" - BROCKHAMPTON\\n2. \"Come Home\" - Anderson .Paak ft. André 3000\\n3. \"a lot\" - 21 Savage ft. J. Cole\\n4. \"Jesus Forgive Me, I Am A Thot\" - JPEGMAFIA\\n5. \"bad guy\" - Billie Eilish\\n6. \"Adore You\" - Harry Styles\\n7. \"ENTROPY\" - Daniel Caeser\\n8. \"SUGAR\" - BROCKHAMPTON\\n9. \"Use This Gospel\" - Kanye West ft. Clips & Kenny G\\n10. \"Take What You Want\" - Post Malone ft. Ozzy Osbourne & Travis Scott\\n11. \"Bags\" - Clairo\\n12. \"RICKY\" - Denzel Curry\\n13. \"So What?\" - Vince Staples\\n14. \"DEARLY DEPARTED\" - BROCKHAMPTON\\n15. \"Falling\" - Harry Styles\\n16. \"Pop Boy\" - Stormzy ft. Aitch\\n17. \"People\" - The 1975\\n18. \"Selah\" - Kanye West\\n19. \"Phone Numbers\" - Dominic Fike\\n20. \"monster\" - 21 Savage\\n21. \"Round Bout Midnight\" - Blu, Oh No ft. Abstract Rude and Self Jupiter\\n22. \"Homicide\" - Logic ft. Eminem\\n23. \"Wiley Flow\" - Stormzy\\n24. \"Hair Down\" - SiR ft. Kendrick Lamar\\n25. \"ST. PERCY\" - BROCKHAMPTONEmbed']"
      ]
     },
     "execution_count": 14,
     "metadata": {},
     "output_type": "execute_result"
    }
   ],
   "source": [
    "lyrics"
   ]
  },
  {
   "cell_type": "code",
   "execution_count": null,
   "id": "79fe051b",
   "metadata": {},
   "outputs": [],
   "source": []
  },
  {
   "cell_type": "code",
   "execution_count": null,
   "id": "3d698926",
   "metadata": {},
   "outputs": [],
   "source": []
  },
  {
   "cell_type": "code",
   "execution_count": null,
   "id": "06ceac07",
   "metadata": {},
   "outputs": [],
   "source": []
  },
  {
   "cell_type": "code",
   "execution_count": null,
   "id": "41fd4197",
   "metadata": {},
   "outputs": [],
   "source": []
  },
  {
   "cell_type": "code",
   "execution_count": null,
   "id": "c03c1c51",
   "metadata": {},
   "outputs": [],
   "source": []
  },
  {
   "cell_type": "code",
   "execution_count": null,
   "id": "517ea7c6",
   "metadata": {},
   "outputs": [],
   "source": []
  },
  {
   "cell_type": "code",
   "execution_count": null,
   "id": "8fd2fe34",
   "metadata": {},
   "outputs": [],
   "source": []
  }
 ],
 "metadata": {
  "kernelspec": {
   "display_name": "Python 3 (ipykernel)",
   "language": "python",
   "name": "python3"
  },
  "language_info": {
   "codemirror_mode": {
    "name": "ipython",
    "version": 3
   },
   "file_extension": ".py",
   "mimetype": "text/x-python",
   "name": "python",
   "nbconvert_exporter": "python",
   "pygments_lexer": "ipython3",
   "version": "3.7.9"
  }
 },
 "nbformat": 4,
 "nbformat_minor": 5
}
