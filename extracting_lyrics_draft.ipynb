{
 "cells": [
  {
   "cell_type": "code",
   "execution_count": null,
   "id": "bce8300e",
   "metadata": {},
   "outputs": [],
   "source": [
    "import lyricsgenius as lg # https://github.com/johnwmillr/LyricsGenius"
   ]
  },
  {
   "cell_type": "code",
   "execution_count": null,
   "id": "af86b9e2",
   "metadata": {},
   "outputs": [],
   "source": [
    "file = open(\"./lyrics/billie_eilish_lyrics.txt\", \"w\")  # File to write lyrics to"
   ]
  },
  {
   "cell_type": "code",
   "execution_count": null,
   "id": "95d84727",
   "metadata": {},
   "outputs": [],
   "source": [
    "file"
   ]
  },
  {
   "cell_type": "code",
   "execution_count": null,
   "id": "d7cc5a3d",
   "metadata": {},
   "outputs": [],
   "source": [
    "genius = lg.Genius('zERMIGTFkORpBjkfugfExB_Pcz2hLpSUmbQBzVbCgQuEwhKyfiFAKmxChYFnZxZz',  # Client access token from Genius Client API page\n",
    "                             skip_non_songs=True, excluded_terms=[\"(Remix)\", \"(Live)\"],\n",
    "                             remove_section_headers=True)"
   ]
  },
  {
   "cell_type": "code",
   "execution_count": null,
   "id": "2d3ce522",
   "metadata": {},
   "outputs": [],
   "source": [
    "artists = ['Billie Eilish']\n",
    "\n",
    "\n",
    "def get_lyrics(arr, k):  # Write lyrics of k songs by each artist in arr\n",
    "    c = 0  # Counter\n",
    "    for name in arr:\n",
    "        try:\n",
    "            songs = (genius.search_artist(name, max_songs=k, sort='popularity')).songs\n",
    "            s = [song.lyrics for song in songs]\n",
    "            file.write(\"\\n \\n   <|endoftext|>   \\n \\n\".join(s))  # Deliminator\n",
    "            c += 1\n",
    "            print(f\"Songs grabbed:{len(s)}\")\n",
    "        except:  #  Broad catch which will give us the name of artist and song that threw the exception\n",
    "            print(f\"some exception at {name}: {c}\")"
   ]
  },
  {
   "cell_type": "code",
   "execution_count": null,
   "id": "3f43781f",
   "metadata": {},
   "outputs": [],
   "source": [
    "get_lyrics(artists, 3)"
   ]
  },
  {
   "cell_type": "code",
   "execution_count": null,
   "id": "224a3779",
   "metadata": {},
   "outputs": [],
   "source": []
  },
  {
   "cell_type": "code",
   "execution_count": 2,
   "id": "6b085f84",
   "metadata": {},
   "outputs": [],
   "source": [
    "import lyricsgenius"
   ]
  },
  {
   "cell_type": "code",
   "execution_count": 3,
   "id": "261222c6",
   "metadata": {},
   "outputs": [],
   "source": [
    "genius = lyricsgenius.Genius('_59PxDrExYUjwz1duOTXCIW4BUd68-ox_R_R5F877D8dxnzxyUlWcHUUaLXUvwqu',\n",
    "                             skip_non_songs=True, excluded_terms=[\"(Remix)\", \"(Live)\"],\n",
    "                             remove_section_headers=True)"
   ]
  },
  {
   "cell_type": "code",
   "execution_count": null,
   "id": "7df37e1a",
   "metadata": {},
   "outputs": [],
   "source": [
    "artist = genius.search_artist(\"Billie Eilish\", max_songs=3, sort=\"popularity\")"
   ]
  },
  {
   "cell_type": "code",
   "execution_count": null,
   "id": "83b35540",
   "metadata": {},
   "outputs": [],
   "source": [
    "print(artist.songs)"
   ]
  },
  {
   "cell_type": "code",
   "execution_count": null,
   "id": "b2b52651",
   "metadata": {},
   "outputs": [],
   "source": [
    "song = artist.song(\"bad guy\")"
   ]
  },
  {
   "cell_type": "code",
   "execution_count": null,
   "id": "5db18b28",
   "metadata": {},
   "outputs": [],
   "source": [
    "song"
   ]
  },
  {
   "cell_type": "code",
   "execution_count": null,
   "id": "6f7d8047",
   "metadata": {},
   "outputs": [],
   "source": [
    "artist.save_lyrics()"
   ]
  },
  {
   "cell_type": "code",
   "execution_count": null,
   "id": "acd3a7c5",
   "metadata": {},
   "outputs": [],
   "source": [
    "print(song.lyrics)"
   ]
  },
  {
   "cell_type": "code",
   "execution_count": null,
   "id": "1d61c2b4",
   "metadata": {},
   "outputs": [],
   "source": [
    "song = artist.song(\"another stupid song\")"
   ]
  },
  {
   "cell_type": "code",
   "execution_count": null,
   "id": "04eebb03",
   "metadata": {},
   "outputs": [],
   "source": [
    "print(song.lyrics)"
   ]
  },
  {
   "cell_type": "code",
   "execution_count": null,
   "id": "088b48b8",
   "metadata": {},
   "outputs": [],
   "source": []
  },
  {
   "cell_type": "code",
   "execution_count": 5,
   "id": "279a8c90",
   "metadata": {},
   "outputs": [
    {
     "name": "stdout",
     "output_type": "stream",
     "text": [
      "Searching for \"WHEN WE ALL FALL ASLEEP, WHERE DO WE GO?\" by Billie Eilish...\n"
     ]
    }
   ],
   "source": [
    "album = genius.search_album(\"WHEN WE ALL FALL ASLEEP, WHERE DO WE GO?\", \"Billie Eilish\")"
   ]
  },
  {
   "cell_type": "code",
   "execution_count": 6,
   "id": "f10b392e",
   "metadata": {},
   "outputs": [
    {
     "name": "stdout",
     "output_type": "stream",
     "text": [
      "Wrote Lyrics_WHENWEALLFALLASLEEPWHEREDOWEGO.json.\n"
     ]
    }
   ],
   "source": [
    "album.save_lyrics()"
   ]
  },
  {
   "cell_type": "code",
   "execution_count": null,
   "id": "05b59dc0",
   "metadata": {},
   "outputs": [],
   "source": []
  },
  {
   "cell_type": "code",
   "execution_count": null,
   "id": "a308f77d",
   "metadata": {},
   "outputs": [],
   "source": []
  },
  {
   "cell_type": "code",
   "execution_count": null,
   "id": "5a00e05f",
   "metadata": {},
   "outputs": [],
   "source": []
  },
  {
   "cell_type": "code",
   "execution_count": null,
   "id": "d580757e",
   "metadata": {},
   "outputs": [],
   "source": []
  }
 ],
 "metadata": {
  "kernelspec": {
   "display_name": "Python 3 (ipykernel)",
   "language": "python",
   "name": "python3"
  },
  "language_info": {
   "codemirror_mode": {
    "name": "ipython",
    "version": 3
   },
   "file_extension": ".py",
   "mimetype": "text/x-python",
   "name": "python",
   "nbconvert_exporter": "python",
   "pygments_lexer": "ipython3",
   "version": "3.7.9"
  }
 },
 "nbformat": 4,
 "nbformat_minor": 5
}
